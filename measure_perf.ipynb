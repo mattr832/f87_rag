{
 "cells": [
  {
   "cell_type": "code",
   "execution_count": 1,
   "id": "51f998bb",
   "metadata": {},
   "outputs": [],
   "source": [
    "# pip install gspread streamlit pandas dotenv"
   ]
  },
  {
   "cell_type": "code",
   "execution_count": 2,
   "id": "f315278f",
   "metadata": {},
   "outputs": [
    {
     "name": "stderr",
     "output_type": "stream",
     "text": [
      "2025-05-17 22:00:41.466 \n",
      "Warning: the config option 'server.enableCORS=false' is not compatible with\n",
      "'server.enableXsrfProtection=true'.\n",
      "As a result, 'server.enableCORS' is being overridden to 'true'.\n",
      "\n",
      "More information:\n",
      "In order to protect against CSRF attacks, we send a cookie with each request.\n",
      "To do so, we must specify allowable origins, which places a restriction on\n",
      "cross-origin resource sharing.\n",
      "\n",
      "If cross origin resource sharing is required, please disable server.enableXsrfProtection.\n",
      "            \n"
     ]
    }
   ],
   "source": [
    "import gspread\n",
    "import pandas as pd\n",
    "from google.oauth2.service_account import Credentials\n",
    "import streamlit as st\n",
    "\n",
    "scope = [\n",
    "    \"https://www.googleapis.com/auth/spreadsheets\",\n",
    "    \"https://www.googleapis.com/auth/drive\",\n",
    "]\n",
    "\n",
    "# Load from Streamlit secrets\n",
    "service_account_info = st.secrets[\"gcp_service_account\"]\n",
    "creds = Credentials.from_service_account_info(service_account_info, scopes=scope)\n",
    "client = gspread.authorize(creds)\n",
    "\n",
    "# Open your sheet\n",
    "sheet = client.open(\"f87_rag_logs\").sheet1\n",
    "data = sheet.get_all_records()\n",
    "df = pd.DataFrame(data)\n"
   ]
  },
  {
   "cell_type": "code",
   "execution_count": 3,
   "id": "bad84c92",
   "metadata": {},
   "outputs": [
    {
     "data": {
      "text/html": [
       "<div>\n",
       "<style scoped>\n",
       "    .dataframe tbody tr th:only-of-type {\n",
       "        vertical-align: middle;\n",
       "    }\n",
       "\n",
       "    .dataframe tbody tr th {\n",
       "        vertical-align: top;\n",
       "    }\n",
       "\n",
       "    .dataframe thead th {\n",
       "        text-align: right;\n",
       "    }\n",
       "</style>\n",
       "<table border=\"1\" class=\"dataframe\">\n",
       "  <thead>\n",
       "    <tr style=\"text-align: right;\">\n",
       "      <th></th>\n",
       "      <th>Timestamp</th>\n",
       "      <th>question</th>\n",
       "      <th>answer</th>\n",
       "      <th>Context1</th>\n",
       "      <th>Context2</th>\n",
       "      <th>Context3</th>\n",
       "      <th>Context4</th>\n",
       "      <th>Context5</th>\n",
       "      <th>Context6</th>\n",
       "    </tr>\n",
       "  </thead>\n",
       "  <tbody>\n",
       "    <tr>\n",
       "      <th>0</th>\n",
       "      <td>2025-05-15 20:42:56</td>\n",
       "      <td>What is the VANOS on the M2?</td>\n",
       "      <td>The VANOS system on the BMW M2 is a variable v...</td>\n",
       "      <td>Interesting comparison of the engine managemen...</td>\n",
       "      <td>a bit exposes.  The front engine harness needs...</td>\n",
       "      <td>1. Transcript of the \"Driving stability contro...</td>\n",
       "      <td>off eBay. He installed it. And was getting a e...</td>\n",
       "      <td>Hey all - I recently received and installed th...</td>\n",
       "      <td>Anyone know if Valve Control devices (VSC-2, B...</td>\n",
       "    </tr>\n",
       "    <tr>\n",
       "      <th>1</th>\n",
       "      <td>2025-05-15 20:44:41</td>\n",
       "      <td>Is it possible to adjust the VANOS?</td>\n",
       "      <td>No, the VANOS system itself is not adjustable ...</td>\n",
       "      <td>to control them manually\\n\\nI notice a pretty ...</td>\n",
       "      <td>I'm facing a weird issue with the VSC-2 where ...</td>\n",
       "      <td>types of ticking/clicking noises.1. VANOS rela...</td>\n",
       "      <td>Since it seems this is now adjustable if using...</td>\n",
       "      <td>would be better for throttle response as its n...</td>\n",
       "      <td>, there is CG Precision VSC-1 that is plug-n-p...</td>\n",
       "    </tr>\n",
       "    <tr>\n",
       "      <th>2</th>\n",
       "      <td>2025-05-15 20:52:13</td>\n",
       "      <td>What oil should I use?</td>\n",
       "      <td>For your M2 LCI with the N55 engine, consideri...</td>\n",
       "      <td>repackaged Shell. Shell owns Pennzoil and they...</td>\n",
       "      <td>So from my research thus far this is a short l...</td>\n",
       "      <td>The car has many many miles beyond the break i...</td>\n",
       "      <td>I'm looking to do an oil change for the start ...</td>\n",
       "      <td>Hi all,My M2 LCI (N55) now has around 8000 mil...</td>\n",
       "      <td>hetics and have extremely low pour point and v...</td>\n",
       "    </tr>\n",
       "    <tr>\n",
       "      <th>3</th>\n",
       "      <td>2025-05-16 04:19:15</td>\n",
       "      <td>What suspension components are recommend to up...</td>\n",
       "      <td>For heavy track use, consider upgrading the fo...</td>\n",
       "      <td>You might chat with TCK to see what they recom...</td>\n",
       "      <td>After 2 years of tracking with stock 18 M2, am...</td>\n",
       "      <td>Hi, I'm specifically posting this here because...</td>\n",
       "      <td>The OEM suspension seems great for the track b...</td>\n",
       "      <td>I am struggling with deciding what my next pur...</td>\n",
       "      <td>Hi guys, what suspension components would you ...</td>\n",
       "    </tr>\n",
       "    <tr>\n",
       "      <th>4</th>\n",
       "      <td>2025-05-16 04:20:15</td>\n",
       "      <td>What are some recommended camber plates?</td>\n",
       "      <td>For your BMW M2, here are some recommended cam...</td>\n",
       "      <td>Does anyone know what the OEM camber specs are...</td>\n",
       "      <td>What's your recommended Camber settings for DD...</td>\n",
       "      <td>negative camber on the front so the factory st...</td>\n",
       "      <td>Would what you suggested be the max before pok...</td>\n",
       "      <td>I can't stand tracking this car anymore with t...</td>\n",
       "      <td>Hi folks. Im looking at getting a set of Ohli...</td>\n",
       "    </tr>\n",
       "  </tbody>\n",
       "</table>\n",
       "</div>"
      ],
      "text/plain": [
       "             Timestamp                                           question  \\\n",
       "0  2025-05-15 20:42:56                       What is the VANOS on the M2?   \n",
       "1  2025-05-15 20:44:41                Is it possible to adjust the VANOS?   \n",
       "2  2025-05-15 20:52:13                             What oil should I use?   \n",
       "3  2025-05-16 04:19:15  What suspension components are recommend to up...   \n",
       "4  2025-05-16 04:20:15           What are some recommended camber plates?   \n",
       "\n",
       "                                              answer  \\\n",
       "0  The VANOS system on the BMW M2 is a variable v...   \n",
       "1  No, the VANOS system itself is not adjustable ...   \n",
       "2  For your M2 LCI with the N55 engine, consideri...   \n",
       "3  For heavy track use, consider upgrading the fo...   \n",
       "4  For your BMW M2, here are some recommended cam...   \n",
       "\n",
       "                                            Context1  \\\n",
       "0  Interesting comparison of the engine managemen...   \n",
       "1  to control them manually\\n\\nI notice a pretty ...   \n",
       "2  repackaged Shell. Shell owns Pennzoil and they...   \n",
       "3  You might chat with TCK to see what they recom...   \n",
       "4  Does anyone know what the OEM camber specs are...   \n",
       "\n",
       "                                            Context2  \\\n",
       "0  a bit exposes.  The front engine harness needs...   \n",
       "1  I'm facing a weird issue with the VSC-2 where ...   \n",
       "2  So from my research thus far this is a short l...   \n",
       "3  After 2 years of tracking with stock 18 M2, am...   \n",
       "4  What's your recommended Camber settings for DD...   \n",
       "\n",
       "                                            Context3  \\\n",
       "0  1. Transcript of the \"Driving stability contro...   \n",
       "1  types of ticking/clicking noises.1. VANOS rela...   \n",
       "2  The car has many many miles beyond the break i...   \n",
       "3  Hi, I'm specifically posting this here because...   \n",
       "4  negative camber on the front so the factory st...   \n",
       "\n",
       "                                            Context4  \\\n",
       "0  off eBay. He installed it. And was getting a e...   \n",
       "1  Since it seems this is now adjustable if using...   \n",
       "2  I'm looking to do an oil change for the start ...   \n",
       "3  The OEM suspension seems great for the track b...   \n",
       "4  Would what you suggested be the max before pok...   \n",
       "\n",
       "                                            Context5  \\\n",
       "0  Hey all - I recently received and installed th...   \n",
       "1  would be better for throttle response as its n...   \n",
       "2  Hi all,My M2 LCI (N55) now has around 8000 mil...   \n",
       "3  I am struggling with deciding what my next pur...   \n",
       "4  I can't stand tracking this car anymore with t...   \n",
       "\n",
       "                                            Context6  \n",
       "0  Anyone know if Valve Control devices (VSC-2, B...  \n",
       "1  , there is CG Precision VSC-1 that is plug-n-p...  \n",
       "2  hetics and have extremely low pour point and v...  \n",
       "3  Hi guys, what suspension components would you ...  \n",
       "4  Hi folks. Im looking at getting a set of Ohli...  "
      ]
     },
     "execution_count": 3,
     "metadata": {},
     "output_type": "execute_result"
    }
   ],
   "source": [
    "df.head()"
   ]
  },
  {
   "cell_type": "code",
   "execution_count": 4,
   "id": "46d926e9",
   "metadata": {},
   "outputs": [],
   "source": [
    "context_list = []\n",
    "\n",
    "for index in df.iterrows():\n",
    "    cont = df.iloc[index[0],3:6].to_list()\n",
    "    context_list.append(cont)\n"
   ]
  },
  {
   "cell_type": "code",
   "execution_count": 5,
   "id": "577f735c",
   "metadata": {},
   "outputs": [],
   "source": [
    "df[\"contexts\"] = context_list"
   ]
  },
  {
   "cell_type": "code",
   "execution_count": 6,
   "id": "9054ec83",
   "metadata": {},
   "outputs": [
    {
     "name": "stderr",
     "output_type": "stream",
     "text": [
      "c:\\Users\\mattr\\rag_env\\Lib\\site-packages\\tqdm\\auto.py:21: TqdmWarning: IProgress not found. Please update jupyter and ipywidgets. See https://ipywidgets.readthedocs.io/en/stable/user_install.html\n",
      "  from .autonotebook import tqdm as notebook_tqdm\n"
     ]
    }
   ],
   "source": [
    "import os\n",
    "from dotenv import load_dotenv\n",
    "from ragas import evaluate\n",
    "from datasets import Dataset, Features, Value, Sequence\n",
    "\n",
    "# Define schema\n",
    "features = Features({\n",
    "    \"question\": Value(\"string\"),\n",
    "    \"answer\": Value(\"string\"),\n",
    "    \"contexts\": Sequence(Value(\"string\"))\n",
    "})\n",
    "\n",
    "# Convert to Dataset with schema\n",
    "ragas_dataset = Dataset.from_pandas(df[[\"question\", \"answer\", \"contexts\"]], features=features)\n"
   ]
  },
  {
   "cell_type": "code",
   "execution_count": 7,
   "id": "0c20c62b",
   "metadata": {},
   "outputs": [
    {
     "name": "stderr",
     "output_type": "stream",
     "text": [
      "C:\\Users\\mattr\\AppData\\Local\\Temp\\ipykernel_19232\\4150431211.py:14: LangChainDeprecationWarning: The class `ChatOpenAI` was deprecated in LangChain 0.0.10 and will be removed in 1.0. An updated version of the class exists in the :class:`~langchain-openai package and should be used instead. To use it run `pip install -U :class:`~langchain-openai` and import as `from :class:`~langchain_openai import ChatOpenAI``.\n",
      "  llm = ChatOpenAI(model_name=\"gpt-3.5-turbo\", temperature=0)\n",
      "Evaluating: 100%|██████████| 122/122 [00:54<00:00,  2.22it/s]\n"
     ]
    },
    {
     "name": "stdout",
     "output_type": "stream",
     "text": [
      "{'faithfulness': 0.3095, 'answer_relevancy': 0.8160}\n"
     ]
    }
   ],
   "source": [
    "from langchain.chat_models import ChatOpenAI\n",
    "from ragas import evaluate\n",
    "from ragas.metrics import (\n",
    "    faithfulness,\n",
    "    answer_relevancy,\n",
    "    context_precision,\n",
    "    context_recall,\n",
    ")\n",
    "\n",
    "# Set your OpenAI API key\n",
    "load_dotenv()\n",
    "openai_api_key = os.getenv(\"OPENAI_API_KEY\")\n",
    "\n",
    "llm = ChatOpenAI(model_name=\"gpt-3.5-turbo\", temperature=0)\n",
    "\n",
    "# Run evaluation using ragas.evaluate()\n",
    "results = evaluate(\n",
    "    ragas_dataset,\n",
    "    metrics=[\n",
    "        faithfulness,\n",
    "        answer_relevancy,\n",
    "        # context_precision,\n",
    "        # context_recall,\n",
    "    ],\n",
    "    llm=llm,\n",
    ")\n",
    "\n",
    "print(results)\n"
   ]
  }
 ],
 "metadata": {
  "kernelspec": {
   "display_name": "rag_env",
   "language": "python",
   "name": "python3"
  },
  "language_info": {
   "codemirror_mode": {
    "name": "ipython",
    "version": 3
   },
   "file_extension": ".py",
   "mimetype": "text/x-python",
   "name": "python",
   "nbconvert_exporter": "python",
   "pygments_lexer": "ipython3",
   "version": "3.11.7"
  }
 },
 "nbformat": 4,
 "nbformat_minor": 5
}
